{
 "cells": [
  {
   "cell_type": "markdown",
   "metadata": {
    "id": "UboSCHcqteNW"
   },
   "source": [
    "# Genetic Algorithms vs Dynamic Programming for the Knapsack Problem\n",
    "\n",
    "\n",
    "## Introduction:\n",
    "\n",
    "In this project, I will be using **Genetic Algorithms** and **Dynamic Programming** to find the solution to a 01-Knapsack Problem. The Knapsack Problem is an optimization problem where we're given a set of weights and values of $n$ objects, collect them into a bag (or a \"knapsack\") of maximum value such that their cumulative weight does not exceed capacity. The goal is to get the maximum value from the items in the knapsack. Since this problem is a 01-Knapsack, we can only take one of each object, or none.\n",
    "\n",
    "\n",
    "In notation form, we are trying to maximize $\\sum_{i=1}^{n} (values[i]*choices[i])$ subject to $\\sum_{i=1}^{n} (weights[i]*choices[i]) \\leq capacity$, where $weights[i] \\in {0,1}$.\n",
    "\n",
    "By the end of this project, I will maximize the above equations using Genetic Algorithms and Dynamic Programming, and **compare their results** in my final report."
   ]
  },
  {
   "cell_type": "markdown",
   "metadata": {
    "id": "P8GDzNEfuSa7"
   },
   "source": [
    "## Approach:  \n",
    "My GA will proceed in the following steps:\n",
    "- 1. Create the population\n",
    "- 2. Rank the population according to fitness in decreasing order\n",
    "- 3. Select the mating pool\n",
    "- 4. Breed\n",
    "- 5. Mutate to create the next generation\n",
    "- 6. Repeat  \n",
    "\n",
    "Now, let’s see this in action!"
   ]
  },
  {
   "cell_type": "markdown",
   "metadata": {},
   "source": [
    "## Coding the Genetic Algorithm:"
   ]
  },
  {
   "cell_type": "code",
   "execution_count": 1,
   "metadata": {
    "id": "lF7mceSix3PK"
   },
   "outputs": [],
   "source": [
    "# Importing everything I will need for this project.\n",
    "import numpy as np, random, operator, pandas as pd, matplotlib.pyplot as plt\n",
    "import operator\n",
    "import math\n",
    "from sklearn.datasets import load_breast_cancer\n",
    "import sklearn\n",
    "from sklearn.model_selection import train_test_split\n",
    "from datetime import datetime"
   ]
  },
  {
   "cell_type": "markdown",
   "metadata": {
    "id": "eD85FD4u1fRK"
   },
   "source": [
    "### Creating the Knapsack Game\n",
    "Each unique Knapsack game has its own $capacity$ value, $weights$ vector, and $values$ vector. Below is a function used to randomly create a knapsack game of specified size (size = number of objects in knapsack game). I used this function to create a game of size 300 that will be used for Genetic Algortihm and Dynamic Programming for comparison later on. \n",
    "\n",
    "The functions saveGame() and loadGame() are used to save the game as a file and re-load this file into the notebook, so that everyone is using the same randomly created game. I was provided the game file on Canvas, by my instructors for this report, and thus we load this file in using the function loadGame(). The game file must be in the same folder as this assignment file. You can upload files to Colab using the file icon in the left pane."
   ]
  },
  {
   "cell_type": "code",
   "execution_count": 2,
   "metadata": {
    "id": "bC6rwI7BTIZ0"
   },
   "outputs": [],
   "source": [
    "def createGame(size):\n",
    "    \"\"\"\n",
    "    size : the number of objects in the knapsack game\n",
    "    This function should return a knapsack game in dictionary form \n",
    "    \"\"\"\n",
    "    upperbound = size // 20 \n",
    "    choices = range(1, upperbound)\n",
    "    values = []\n",
    "    weights = []\n",
    "\n",
    "    totalWeight = 0\n",
    "    for i in range(size):\n",
    "        values.append(random.choice(choices))\n",
    "        weights.append(random.choice(choices))\n",
    "        totalWeight += weights[i]\n",
    "    \n",
    "\n",
    "    capacity = totalWeight // 2\n",
    "\n",
    "    game = {'values': values, 'weights': weights, 'capacity': capacity}\n",
    "    print(\"Capacity: \" + str(capacity))\n",
    "\n",
    "    return game \n",
    "\n",
    "def saveGame(game):\n",
    "    N = len(game['values'])\n",
    "    combined = np.array(game['values'] + game['weights'] + [game['capacity']])\n",
    "    np.savetxt('game.txt', combined)\n",
    "\n",
    "def loadGame(fname):\n",
    "    \"\"\"\n",
    "    This function loads a knapsack game (weights, values and capacity) from the\n",
    "    specified file. It returns a dictionary containing these 3 game parameters\n",
    "    \"\"\"\n",
    "\n",
    "    combined = np.loadtxt(fname)\n",
    "    N = (len(combined) - 1) // 2\n",
    "\n",
    "    values = combined[:N].tolist()\n",
    "    weights = combined[N:2*N].tolist()\n",
    "    capacity = combined[-1]\n",
    "\n",
    "    return {'values': values, 'weights': weights, 'capacity': capacity}"
   ]
  },
  {
   "cell_type": "code",
   "execution_count": 3,
   "metadata": {
    "id": "FD-pxQIZgw-r"
   },
   "outputs": [],
   "source": [
    "game = loadGame('game_updated.txt')"
   ]
  },
  {
   "cell_type": "markdown",
   "metadata": {
    "id": "43z7lnPY1iaC"
   },
   "source": [
    "### Creating the Allocation (solution) Class\n",
    "We first create a class that will represent and handle an individual in the population, called an Allocation, or a Knapsack Solution. An Allocation is represented by a $choices$ array of 0's and 1's, representing whether we took each object, and a weight variable.\n",
    "\n",
    "Fitness is calculated as the total value of this Allocation. If $values$ and $choices$ are two arrays each representing every object in this game, this total value is equal to the sum of $value[i]*choices[i]$ for every object in the game. In other words, $\\sum_{i=1}^{n} (values[i]*choices[i])$ = fitness for an Allocation with a $choices$ array and a Knapsack game with a $values$ array.\n",
    "\n",
    "\n",
    "\n"
   ]
  },
  {
   "cell_type": "code",
   "execution_count": 4,
   "metadata": {
    "id": "8oBqBDAi1kl3"
   },
   "outputs": [],
   "source": [
    "class Allocation:\n",
    "    def __init__(self, choices):\n",
    "        \"\"\"\n",
    "        choices : an array representing this Allocation's knapsack object choices\n",
    "        weight : the total weight of this Allocation (assigned later on)\n",
    "        \"\"\"\n",
    "        self.choices = choices\n",
    "        self.weight = 0\n",
    "    \n",
    "    def fitness(self,game):\n",
    "        \"\"\"\n",
    "        game : dictionary containing values, weights, and capacity \n",
    "        This fitness function is defined as the total value of this Allocation.\n",
    "        \"\"\"\n",
    "        \n",
    "        fitness = np.dot(game['values'],self.choices)\n",
    "        weight = np.dot(game['weights'],self.choices)\n",
    "        if weight > game['capacity']:\n",
    "            return -1 \n",
    "\n",
    "        return fitness"
   ]
  },
  {
   "cell_type": "markdown",
   "metadata": {
    "id": "z5nl1KPnG1XB"
   },
   "source": [
    "### Create our initial population\n",
    "This is essentially an Allocation generator.  \n",
    "Here I create a function that produces random Allocations. We can use it to make our initial population (aka first generation)! Then, to create an individual, we randomly select the choice for each object in the knapsack problem. This means that for each object, we decide whether we take the object in the knapsack (assign a value of 1 to choices), or not (assign a value of 0). It's important to note that even though we are starting out with a completely random initial population, there is still a chance for convergence. \n",
    "\n",
    "The first function here produces one random individual, and in the next function, we create the whole initial population by repeatedly calling randomAllocation()."
   ]
  },
  {
   "cell_type": "code",
   "execution_count": 5,
   "metadata": {
    "id": "0kQU-xVD1pwl"
   },
   "outputs": [],
   "source": [
    "def randomAllocation(game):\n",
    "    \"\"\"\n",
    "    Creates a random Allocation. The elements of the choices array are randomly assigned (0 or 1)\n",
    "    \"\"\"\n",
    "    choices_list = []\n",
    "    \n",
    "    for n in range(len(game['values'])):\n",
    "        choices_list.append(random.randint(0,1))\n",
    "        \n",
    "    alc = Allocation(choices_list)\n",
    "    return alc\n",
    "\n",
    "def initialPopulation(game, popSize):\n",
    "    \"\"\"\n",
    "    Create inital population of a given size.\n",
    "    Returns a list of random Allocations\n",
    "    \"\"\"\n",
    "    pop = []\n",
    "    for i in range(popSize):\n",
    "        temp = randomAllocation(game)\n",
    "        pop.append(temp)\n",
    "    \n",
    "    return pop "
   ]
  },
  {
   "cell_type": "markdown",
   "metadata": {
    "id": "tS2KhYduI5kM"
   },
   "source": [
    "### Ranking by Fitness\n",
    "Here, I Rank all individuals. Next, the evolutionary fun begins. To simulate our “survival of the fittest”, we can make use of Fitness to rank each individual in the population. Our output will be an ordered list with the Allocation IDs and each associated fitness score."
   ]
  },
  {
   "cell_type": "code",
   "execution_count": 6,
   "metadata": {
    "id": "jpLp7-nQ1sGB"
   },
   "outputs": [],
   "source": [
    "def rankPopulation(game, population):\n",
    "    \"\"\"\n",
    "    This function sorts the given population in decreasing order of the fitness score.\n",
    "    Returns a list of ordered pairs of (index, fitness) where index is the index of the\n",
    "    individual within the population\n",
    "    \"\"\"\n",
    "    fitnessResults = {}\n",
    "    for i in range(0,len(population)):\n",
    "        fitnessResults[i] = population[i].fitness(game)\n",
    "    return sorted(fitnessResults.items(), key = operator.itemgetter(1), reverse = True)"
   ]
  },
  {
   "cell_type": "markdown",
   "metadata": {
    "id": "Nd6_KKjeJH2r"
   },
   "source": [
    "### Selecting a mating pool\n",
    "There are a few options for how to select the parents that will be used to create the next generation. The most common approaches are either fitness proportionate selection (aka “roulette wheel selection”),tournament selection, or elitism:\n",
    "- Fitness proportionate selection (the version implemented below): The fitness of each individual relative to the population is used to assign a probability of selection. Think of this as the fitness-weighted probability of being selected.\n",
    "- Tournament selection: A set number of individuals are randomly selected from the population and the one with the highest fitness in the group is chosen as the first parent. This is repeated to chose the second parent.  \n",
    "- Elitism: The best performing individuals from the population will automatically carry over to the next generation, ensuring that the most successful individuals persist.  \n",
    "\n",
    "For the purpose of clarity, I’ll create the mating pool in two steps. First, I’ll use the output from rankPopulation to determine which Allocations to select in our selection function. Then, I set up the roulette wheel by calculating a relative fitness weight for each individual. Next, I compare a randomly drawn number to these weights to select our mating pool. We’ll also want to hold on to our best Allocations, so we introduce elitism. Ultimately, the selection function returns a list of Allocation IDs, which we can use to create the mating pool in the matingPool function."
   ]
  },
  {
   "cell_type": "code",
   "execution_count": 7,
   "metadata": {
    "id": "Ce4ig_mu1tdf"
   },
   "outputs": [],
   "source": [
    "def selection(popRanked, eliteSize):\n",
    "    \"\"\"\n",
    "    popRanked: output of rankpopulation()\n",
    "    eliteSize: number of highest ranked individuals we will retain in the next generation\n",
    "    This function returns a list of indices of individuals selected to form the mating pool\n",
    "    \"\"\"\n",
    "    selectionResults = []\n",
    "    df = pd.DataFrame(np.array(popRanked), columns=[\"Index\",\"Fitness\"])\n",
    "    df['cum_sum'] = df.Fitness.cumsum()\n",
    "    df['cum_perc'] = 100*df.cum_sum/df.Fitness.sum()\n",
    "    \n",
    "    for i in range(0, eliteSize):\n",
    "        selectionResults.append(popRanked[i][0])\n",
    "    for i in range(0, len(popRanked) - eliteSize):\n",
    "        pick = 100*random.random()\n",
    "        for i in range(0, len(popRanked)):\n",
    "            if pick <= df.iat[i,3]:\n",
    "                selectionResults.append(popRanked[i][0])\n",
    "                break\n",
    "    return selectionResults"
   ]
  },
  {
   "cell_type": "markdown",
   "metadata": {
    "id": "hLo_tiPwJi0f"
   },
   "source": [
    "Now that we have the IDs of the Allocations that will make up our mating pool from the selection function, we can create the mating pool. We’re simply extracting the selected individuals from our population."
   ]
  },
  {
   "cell_type": "code",
   "execution_count": 8,
   "metadata": {
    "id": "o7PIszD01vUZ"
   },
   "outputs": [],
   "source": [
    "def matingPool(population, selectionResults):\n",
    "    \"\"\"\n",
    "    Create the mating pool\n",
    "    \"\"\"\n",
    "    matingpool = []\n",
    "    for i in range(0, len(selectionResults)):\n",
    "        index = selectionResults[i]\n",
    "        matingpool.append(population[index])\n",
    "    return matingpool"
   ]
  },
  {
   "cell_type": "markdown",
   "metadata": {
    "id": "Oia1DgtJ2GYh"
   },
   "source": [
    "### Breeding\n",
    "\n",
    "With our mating pool created, we can create the next generation in a process called crossover (aka “breeding”). Again, each Allocation can be represented by the choices array. \n",
    "\n",
    "You will implement three crossover funtions, and each one will produce two children, for a more efficient breeding. The three crossovers I use here are:\n",
    "- Split Crossover\n",
    "- Reversed Crossover\n",
    "- Halved Crossover\n",
    "\n",
    "In the **split crossover**, I randomly select an index to split the parents each into two parts, and create two children. The first child should be comprised of the first part of parent1, and the second part of parent2. The second child should be comprised of the first part of parent2, and the second part of parent1.  \n",
    "\n",
    "In the **Reversed Crossover**, I once again randomly select an index to split the parents, but when it comes to making children, I reattach the splices of genes in reverse order. \n",
    "\n",
    "In the **Halved Crossover**, I split the gene pool directly in half of each parent, and offspring 1 is comprised of the first half of parent 1 and second of parent 2, and vise versa for offspring 2.\n",
    "\n",
    "There is a crossover wrapper function, which is what gets called later on. Inside of this function, based on the passed crossover type, we call the appopriate function to be used in the genetic algorithm."
   ]
  },
  {
   "cell_type": "code",
   "execution_count": 9,
   "metadata": {
    "id": "JsvxU1bF1115"
   },
   "outputs": [],
   "source": [
    "def crossover_split(sol1, sol2):\n",
    "    \"\"\"\n",
    "    sol1, sol2: type Allocation\n",
    "    Split crossover as described in the write-up\n",
    "    This function should return two Allocation objects\n",
    "    \"\"\"\n",
    "    splice1 = random.randint(0,len(sol1.choices))\n",
    "\n",
    "    sol2_beginning_index = sol2.choices[:splice1]\n",
    "    sol2_ending_index = sol2.choices[splice1:]\n",
    "\n",
    "    sol1_beginning_index = sol1.choices[:splice1]\n",
    "    sol1_ending_index = sol1.choices[splice1:]\n",
    "    \n",
    "    offspring_1 = Allocation(sol1_beginning_index + sol2_ending_index)\n",
    "    offspring_2 = Allocation(sol2_beginning_index + sol1_ending_index)\n",
    "    \n",
    "    return offspring_1, offspring_2\n",
    "\n",
    "#I'll be using this on the following crossover\n",
    "def reverse(lst):\n",
    "    return [ele for ele in reversed(lst)]\n",
    "\n",
    "def reverse_crossover_split(sol1, sol2):\n",
    "    \"\"\"\n",
    "    Your own crossover function. It should return two children created by \n",
    "    crossing over sol1 and sol2\n",
    "    This function should return two Allocation objects\n",
    "    \"\"\"\n",
    "    splice1 = random.randint(0,len(sol1.choices))\n",
    "\n",
    "    sol2_beginning_index = sol2.choices[:splice1]\n",
    "    sol2_ending_index = sol2.choices[splice1:]\n",
    "    sol2_beginning_index = reverse(sol2_beginning_index)\n",
    "    sol2_ending_index = reverse(sol2_ending_index)\n",
    "\n",
    "    sol1_beginning_index = sol1.choices[:splice1]\n",
    "    sol1_ending_index = sol1.choices[splice1:]\n",
    "    sol1_beginning_index = reverse(sol1_beginning_index)\n",
    "    sol1_ending_index = reverse(sol1_ending_index)\n",
    "\n",
    "    offspring_1 = Allocation(sol2_ending_index + sol1_beginning_index)\n",
    "    offspring_2 = Allocation(sol1_ending_index + sol2_beginning_index)\n",
    "    \n",
    "    return offspring_1, offspring_2\n",
    "\n",
    "def half_crossover(sol1, sol2):\n",
    "    \"\"\"\n",
    "    Your own crossover function. It should return two children created by \n",
    "    crossing over sol1 and sol2\n",
    "    This function should return two Allocation objects\n",
    "    \"\"\"\n",
    "    half1 = len(sol1.choices)//2\n",
    "    half2 = len(sol2.choices)//2\n",
    "\n",
    "    sol2_beginning_index = sol2.choices[:half2]\n",
    "    sol2_ending_index = sol2.choices[half2:]\n",
    "\n",
    "    sol1_beginning_index = sol1.choices[:half1]\n",
    "    sol1_ending_index = sol1.choices[half1:]\n",
    "\n",
    "    offspring_1 = Allocation(sol1_beginning_index + sol2_ending_index)\n",
    "    offspring_2 = Allocation(sol2_beginning_index + sol1_ending_index)\n",
    "\n",
    "    \n",
    "    return offspring_1, offspring_2\n",
    "\n",
    "\n",
    "def crossover(sol1, sol2, crossover_type):\n",
    "    \"\"\"\n",
    "    Wrapper function for crossover. Returns the children formed by crossing over \n",
    "    sol1 and sol2. \n",
    "    crossover_type is a string specifying which crossover function to use.\n",
    "    \"\"\"\n",
    "    if crossover_type == \"split\":\n",
    "        return crossover_split(sol1, sol2)\n",
    "    elif crossover_type == \"reverse\":\n",
    "        return reverse_crossover_split(sol1, sol2)\n",
    "    elif crossover_type == \"half\":\n",
    "        return half_crossover(sol1, sol2)\n",
    "\n",
    "    \n",
    "    print(\"Crossover type invalid\")\n",
    "    return None "
   ]
  },
  {
   "cell_type": "markdown",
   "metadata": {
    "id": "J_7Se9GGNV5m"
   },
   "source": [
    "Next, we’ll generalize this to create our offspring population. We will use elitism to retain the best Allocations from the current population. Then, we use the crossover wrapper function to fill out the rest of the next generation.\n",
    "\n",
    "Keep in mind that when calling crossover for two parents, the function will return two children. The children population size will be equal to the size of the original population, or the size of the matingPool. \n",
    "\n",
    "Another note to keep in mind is that the top eliteSize members of each population should progress to the next generation without being changed or mutated. When running the genetic Algorithm function, I made sure to use an **even** eliteSize, to make calculations easier in the below function. "
   ]
  },
  {
   "cell_type": "code",
   "execution_count": 10,
   "metadata": {
    "id": "uQqiFBZa6zPo"
   },
   "outputs": [],
   "source": [
    "def breedPopulation(matingpool, eliteSize, crossover_type):\n",
    "    \"\"\"\n",
    "    matingpool: list of individuals selected to form the mating pool\n",
    "    eliteSize: number of highest ranked individuals preserved in the next generation\n",
    "    crossover_type: string specifying which crossover function to use\n",
    "    This function returns the new population created by breeding\n",
    "    \"\"\"\n",
    "    children = []\n",
    "    length = len(matingpool) - eliteSize\n",
    "    length = length // 2\n",
    "    pool = random.sample(matingpool, len(matingpool))\n",
    "\n",
    "    for i in range(0,eliteSize):\n",
    "        children.append(matingpool[i])\n",
    "    \n",
    "    for i in range(0, length):\n",
    "        child1, child2 = crossover(pool[i], pool[len(matingpool)-i-1], crossover_type)\n",
    "        children.append(child1)\n",
    "        children.append(child2)\n",
    "    return children"
   ]
  },
  {
   "cell_type": "markdown",
   "metadata": {
    "id": "iQzR2Bapi032"
   },
   "source": [
    "### Mutating\n",
    "Mutation serves an important function in GA, as it helps to avoid local convergence by introducing novel routes that will allow us to explore other parts of the solution space. For mutating my population pool, I chose to randomly select a single point from each offspring, then mutate that number into either a 0 or a 1."
   ]
  },
  {
   "cell_type": "code",
   "execution_count": 11,
   "metadata": {
    "id": "DoAeljwBi1o0"
   },
   "outputs": [],
   "source": [
    "def mutate(individual):\n",
    "    \"\"\"\n",
    "    individual: type Allocation\n",
    "    This function should mutate a single individual and return the mutated individual.\n",
    "    \"\"\"\n",
    "    chosen_individual = random.sample(range(0, len(individual.choices)), 1)\n",
    "    for i in chosen_individual:\n",
    "        individual.choices[i] = random.randint(0,1)\n",
    "\n",
    "    return individual"
   ]
  },
  {
   "cell_type": "markdown",
   "metadata": {
    "id": "-IbfghlyPRlZ"
   },
   "source": [
    "Next, I extend the mutate function to run through the enitre (new) population."
   ]
  },
  {
   "cell_type": "code",
   "execution_count": 12,
   "metadata": {
    "id": "6vBFxL0j1R-a"
   },
   "outputs": [],
   "source": [
    "def mutatePopulation(population, mutationRate, eliteSize):\n",
    "    \"\"\"\n",
    "    This function should use the above mutate function to mutate each member of the population. Simply iterate over the \n",
    "    population, and mutate each individual with probability mutationRate. \n",
    "    The top eliteSize members should remain unchanged. \n",
    "    \"\"\"\n",
    "    new_population = list(population)\n",
    "    mutation_population = new_population[eliteSize:]\n",
    "\n",
    "    for i in mutation_population:\n",
    "        i = mutate(i)\n",
    "        mutated_population = population[:eliteSize] + mutation_population\n",
    "    return mutated_population"
   ]
  },
  {
   "cell_type": "markdown",
   "metadata": {
    "id": "BjQqdA4i1YCK"
   },
   "source": [
    "### Repeating this whole Process\n",
    "Now its time to create a function that produces a new generation. First, we rank the Allocations in the current generation using rankPopulation. We then determine our potential parents by running the selection function, which allows us to create the mating pool using the matingPool function. Finally, we create our new generation using the breedPopulation function (passing in crossover_type) and then applying mutation using the mutatePopulation function."
   ]
  },
  {
   "cell_type": "code",
   "execution_count": 13,
   "metadata": {
    "id": "zqmGGZqO1XRA"
   },
   "outputs": [],
   "source": [
    "def nextGeneration(game, currentGen, eliteSize, mutationRate, crossover_type):\n",
    "    \"\"\"\n",
    "    This function takes in the current generation, eliteSize and mutationRate and should return the next generation.\n",
    "    Please use all the above defined functions to do so, some hints are in the above paragraph.\n",
    "    \"\"\"\n",
    "    popRanked = rankPopulation(game, currentGen)\n",
    "    selectionResults = selection(popRanked, eliteSize)\n",
    "    matingpool = matingPool(currentGen, selectionResults)\n",
    "    children = breedPopulation(matingpool, eliteSize, crossover_type)\n",
    "    nextGeneration = mutatePopulation(children, mutationRate, eliteSize)\n",
    "    return nextGeneration"
   ]
  },
  {
   "cell_type": "markdown",
   "metadata": {
    "id": "70wPyy1lPrOI"
   },
   "source": [
    "### Final step: Evolution in motion\n",
    "We finally have all the pieces in place to create our GA! All we need to do is create the initial population, and then we can loop through as many generations as we desire. \n",
    "\n",
    "Of course we also want to see the best Allocation and how much we’ve improved, so we capture the initial fitness, the final fitness, and the best individual. The parameter crossover_type is a string which specifies which crossover function to use. We have the parameter game as a dictionary that is returned by createLargeGame(), and we pass this variable in to other function calls as needed.\n",
    "\n",
    "Before each generation, I use the fittest individual from the population to evaluate the fitness performance of the model."
   ]
  },
  {
   "cell_type": "code",
   "execution_count": 14,
   "metadata": {
    "id": "xmCesjMh1nXo"
   },
   "outputs": [],
   "source": [
    "def geneticAlgorithm(game, popSize, eliteSize, mutationRate, generations, crossover_type):\n",
    "    \"\"\"\n",
    "    This function should run the genetic algorithm for the specified number of generations\n",
    "    by following the process outlined  in the \"Approach\" section given earlier in this notebook. \n",
    "    It should print the initial and final fitness.\n",
    "    It should also generate plots showing the fitness with respect to generations.\n",
    "    \"\"\"\n",
    "    for num in range(1,6):\n",
    "        start = datetime.now()\n",
    "\n",
    "        currentGen = initialPopulation(game,popSize) \n",
    "        initial_fitness_score = rankPopulation(game,currentGen)[:][:][0]\n",
    "        max_initial_fitness = max(initial_fitness_score)\n",
    "        best_individual = max_initial_fitness\n",
    "        \n",
    "        best_ind_gen = 0\n",
    "        highest_fit_list = []\n",
    "    \n",
    "        for gen in range(generations):    \n",
    "            currentGen = nextGeneration(game, currentGen, eliteSize, mutationRate, crossover_type)\n",
    "            highest_fit_list.append(max(rankPopulation(game,currentGen)[:][:][0]))\n",
    "        \n",
    "            if max(rankPopulation(game,currentGen)[:][:][0]) > best_individual:\n",
    "                best_individual = max(rankPopulation(game,currentGen)[:][:][0])\n",
    "                best_ind_gen = gen + 1\n",
    "            \n",
    "        final_fit = max(rankPopulation(game,currentGen)[:][:][0])\n",
    "\n",
    "        end = datetime.now()\n",
    "        print(\"Iteration:\", num)\n",
    "        print(\"Total Time for Genetic Algorithm: \" + str(end - start))\n",
    "        print(\"Initial Fitness Score:\", max_initial_fitness)\n",
    "        print(\"Final Fitness Score:\", final_fit)\n",
    "        print(\"The best Fitness score is\", best_individual, \"and its from generation\", best_ind_gen)\n",
    "    \n",
    "\n",
    "\n",
    "        plt.plot(range(generations),highest_fit_list, label='%s iterration' % num)\n",
    "        plt.title('Fitness Across All Generations')\n",
    "        plt.xlabel('Generations')\n",
    "        plt.ylabel(\"Fitness Score\")\n",
    "        plt.legend()"
   ]
  },
  {
   "cell_type": "markdown",
   "metadata": {
    "id": "JXMcv5XC-8aD"
   },
   "source": [
    "## Coding the Dynamic Programming:\n",
    "\n",
    "Dynamic Programming is a very useful and popular way of solving many problems in computer science. The technique makes use of repeated function calling, and creates an array or table to store answers to subproblems of our actual problem. \n",
    "\n",
    "Our DP array will be defined by the following: $dp[i][j]$ represents the maximum knapsack profit for capacity $j$ calculated from the first $i$ items. This means that each value $dp[i][j]$ depends on previous array elements, and we fill in this array from the bottom-up. Each element in this array represents the solution to a smaller, similar Knapsack subproblem. \n",
    "\n",
    "For each item at index $i$ and capacity $j$ there are two options: \n",
    "\n",
    "1. Include the item at index $i$ in the knapsack, as long as its weight is not more than $capacity$. If this happens, we get its profit plus the profit we get from the remaining $capacity$ and remaining items: $dp[i][j] = values[i] + dp[i-1][j-weights[i]]$\n",
    "\n",
    "2. Do not include the item at index $i$. In this case, take whatever profit we get from the sub-array that does not include this item: $dp[i][j] = dp[i-1][j]$"
   ]
  },
  {
   "cell_type": "code",
   "execution_count": 15,
   "metadata": {
    "id": "O7UiktTh--0l"
   },
   "outputs": [],
   "source": [
    "def knapsackDP(game):\n",
    "    \"\"\"\n",
    "    values : values of the objects\n",
    "    weights: weights of the objects\n",
    "    capacity: capacity of the game \n",
    "    Dynamic Programming for the Knapsack problem. \n",
    "    \"\"\"\n",
    "    values = game['values']\n",
    "    weights = game['weights']\n",
    "    capacity =  game['capacity']\n",
    "    capacity = int(capacity)\n",
    "    \n",
    "    n = len(values)\n",
    "    start = datetime.now()\n",
    "\n",
    "    dp = [[0 for _ in range(capacity + 1)] for _ in range(n)]\n",
    "\n",
    "    for c in range(capacity + 1):\n",
    "        if weights[0] <= c:\n",
    "            dp[0][c] = values[0]\n",
    "\n",
    "    for i in range(1, n):\n",
    "        for j in range(1, capacity + 1):\n",
    "            profit1, profit2 = 0, 0\n",
    "            if weights[i] <= j:\n",
    "                profit1 = values[i] + dp[i-1][j - int(weights[i])]\n",
    "            profit2 = dp[i-1][j]\n",
    "\n",
    "            dp[i][j] = max(profit1, profit2)\n",
    "    \n",
    "    end = datetime.now()\n",
    "    print(\"Time elapsed for DP: \" + str(end - start))\n",
    "    print(\"Final DP sol: \" + str(dp[n-1][capacity]))\n",
    "    return dp[n-1][capacity]"
   ]
  },
  {
   "cell_type": "code",
   "execution_count": 16,
   "metadata": {
    "colab": {
     "base_uri": "https://localhost:8080/"
    },
    "id": "6pZFJWIiTAqW",
    "outputId": "190e7bb8-0d6f-4419-9dac-4f96ef066f47"
   },
   "outputs": [
    {
     "name": "stdout",
     "output_type": "stream",
     "text": [
      "Time elapsed for DP: 0:00:00.160039\n",
      "Final DP sol: 1757.0\n"
     ]
    },
    {
     "data": {
      "text/plain": [
       "1757.0"
      ]
     },
     "execution_count": 16,
     "metadata": {},
     "output_type": "execute_result"
    }
   ],
   "source": [
    "knapsackDP(game)"
   ]
  },
  {
   "cell_type": "markdown",
   "metadata": {
    "id": "hs8M0nV6UkYS"
   },
   "source": [
    "Now I run the Genetic Algorithm with the same game."
   ]
  },
  {
   "cell_type": "code",
   "execution_count": 17,
   "metadata": {
    "id": "kfOhiQJZdtqG"
   },
   "outputs": [
    {
     "name": "stdout",
     "output_type": "stream",
     "text": [
      "Iteration: 1\n",
      "Total Time for Genetic Algorithm: 0:02:51.646567\n",
      "Initial Fitness Score: 1188.0\n",
      "Final Fitness Score: 1745.0\n",
      "The best Fitness score is 1745.0 and its from generation 760\n",
      "Iteration: 2\n",
      "Total Time for Genetic Algorithm: 0:02:51.861277\n",
      "Initial Fitness Score: 1239.0\n",
      "Final Fitness Score: 1745.0\n",
      "The best Fitness score is 1745.0 and its from generation 751\n",
      "Iteration: 3\n",
      "Total Time for Genetic Algorithm: 0:02:52.070115\n",
      "Initial Fitness Score: 1191.0\n",
      "Final Fitness Score: 1744.0\n",
      "The best Fitness score is 1744.0 and its from generation 638\n",
      "Iteration: 4\n",
      "Total Time for Genetic Algorithm: 0:02:52.095888\n",
      "Initial Fitness Score: 1181.0\n",
      "Final Fitness Score: 1741.0\n",
      "The best Fitness score is 1741.0 and its from generation 731\n",
      "Iteration: 5\n",
      "Total Time for Genetic Algorithm: 0:02:51.597141\n",
      "Initial Fitness Score: 1227.0\n",
      "Final Fitness Score: 1743.0\n",
      "The best Fitness score is 1743.0 and its from generation 663\n"
     ]
    },
    {
     "data": {
      "image/png": "[encoded data removed]",
      "text/plain": [
       "<Figure size 432x288 with 1 Axes>"
      ]
     },
     "metadata": {
      "needs_background": "light"
     },
     "output_type": "display_data"
    }
   ],
   "source": [
    "geneticAlgorithm(game = game, popSize = 300, eliteSize = 20, mutationRate = 0.3, generations = 800, crossover_type = \"split\")"
   ]
  },
  {
   "cell_type": "code",
   "execution_count": 18,
   "metadata": {},
   "outputs": [
    {
     "name": "stdout",
     "output_type": "stream",
     "text": [
      "Iteration: 1\n",
      "Total Time for Genetic Algorithm: 0:02:45.842056\n",
      "Initial Fitness Score: 1177.0\n",
      "Final Fitness Score: 1573.0\n",
      "The best Fitness score is 1573.0 and its from generation 310\n",
      "Iteration: 2\n",
      "Total Time for Genetic Algorithm: 0:02:45.711931\n",
      "Initial Fitness Score: 1196.0\n",
      "Final Fitness Score: 1587.0\n",
      "The best Fitness score is 1587.0 and its from generation 791\n",
      "Iteration: 3\n",
      "Total Time for Genetic Algorithm: 0:02:44.861070\n",
      "Initial Fitness Score: 1200.0\n",
      "Final Fitness Score: 1613.0\n",
      "The best Fitness score is 1613.0 and its from generation 775\n",
      "Iteration: 4\n",
      "Total Time for Genetic Algorithm: 0:02:45.860202\n",
      "Initial Fitness Score: 1230.0\n",
      "Final Fitness Score: 1603.0\n",
      "The best Fitness score is 1603.0 and its from generation 786\n",
      "Iteration: 5\n",
      "Total Time for Genetic Algorithm: 0:02:45.223349\n",
      "Initial Fitness Score: 1172.0\n",
      "Final Fitness Score: 1610.0\n",
      "The best Fitness score is 1610.0 and its from generation 684\n"
     ]
    },
    {
     "data": {
      "image/png": "[encoded data removed]",
      "text/plain": [
       "<Figure size 432x288 with 1 Axes>"
      ]
     },
     "metadata": {
      "needs_background": "light"
     },
     "output_type": "display_data"
    }
   ],
   "source": [
    "geneticAlgorithm(game = game, popSize = 300, eliteSize = 20, mutationRate = 0.3, generations = 800, crossover_type = \"reverse\")"
   ]
  },
  {
   "cell_type": "code",
   "execution_count": 19,
   "metadata": {},
   "outputs": [
    {
     "name": "stdout",
     "output_type": "stream",
     "text": [
      "Iteration: 1\n",
      "Total Time for Genetic Algorithm: 0:02:52.719195\n",
      "Initial Fitness Score: 1185.0\n",
      "Final Fitness Score: 1744.0\n",
      "The best Fitness score is 1744.0 and its from generation 711\n",
      "Iteration: 2\n",
      "Total Time for Genetic Algorithm: 0:02:51.986409\n",
      "Initial Fitness Score: 1222.0\n",
      "Final Fitness Score: 1738.0\n",
      "The best Fitness score is 1738.0 and its from generation 778\n",
      "Iteration: 3\n",
      "Total Time for Genetic Algorithm: 0:02:52.351303\n",
      "Initial Fitness Score: 1231.0\n",
      "Final Fitness Score: 1741.0\n",
      "The best Fitness score is 1741.0 and its from generation 783\n",
      "Iteration: 4\n",
      "Total Time for Genetic Algorithm: 0:02:52.453984\n",
      "Initial Fitness Score: 1194.0\n",
      "Final Fitness Score: 1744.0\n",
      "The best Fitness score is 1744.0 and its from generation 790\n",
      "Iteration: 5\n",
      "Total Time for Genetic Algorithm: 0:02:53.016624\n",
      "Initial Fitness Score: 1207.0\n",
      "Final Fitness Score: 1736.0\n",
      "The best Fitness score is 1736.0 and its from generation 774\n"
     ]
    },
    {
     "data": {
      "image/png": "[encoded data removed]",
      "text/plain": [
       "<Figure size 432x288 with 1 Axes>"
      ]
     },
     "metadata": {
      "needs_background": "light"
     },
     "output_type": "display_data"
    }
   ],
   "source": [
    "geneticAlgorithm(game = game, popSize = 300, eliteSize = 20, mutationRate = 0.3, generations = 800, crossover_type = \"half\")"
   ]
  }
 ],
 "metadata": {
  "colab": {
   "collapsed_sections": [],
   "name": "COGS 160 Assignment 2 Final.ipynb",
   "provenance": []
  },
  "kernelspec": {
   "display_name": "Python 3",
   "language": "python",
   "name": "python3"
  },
  "language_info": {
   "codemirror_mode": {
    "name": "ipython",
    "version": 3
   },
   "file_extension": ".py",
   "mimetype": "text/x-python",
   "name": "python",
   "nbconvert_exporter": "python",
   "pygments_lexer": "ipython3",
   "version": "3.7.6"
  }
 },
 "nbformat": 4,
 "nbformat_minor": 1
}
